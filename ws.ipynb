{
 "cells": [
  {
   "cell_type": "code",
   "execution_count": 14,
   "id": "19f120e4",
   "metadata": {
    "scrolled": false
   },
   "outputs": [
    {
     "name": "stdout",
     "output_type": "stream",
     "text": [
      "Requirement already satisfied: requests in c:\\anaconda\\lib\\site-packages (2.27.1)\n",
      "Requirement already satisfied: urllib3<1.27,>=1.21.1 in c:\\anaconda\\lib\\site-packages (from requests) (1.26.9)\n",
      "Requirement already satisfied: idna<4,>=2.5 in c:\\anaconda\\lib\\site-packages (from requests) (3.3)\n",
      "Requirement already satisfied: certifi>=2017.4.17 in c:\\anaconda\\lib\\site-packages (from requests) (2021.10.8)\n",
      "Requirement already satisfied: charset-normalizer~=2.0.0 in c:\\anaconda\\lib\\site-packages (from requests) (2.0.4)\n",
      "Note: you may need to restart the kernel to use updated packages.\n"
     ]
    }
   ],
   "source": [
    "pip install requests"
   ]
  },
  {
   "cell_type": "code",
   "execution_count": 15,
   "id": "bc2bc1e8",
   "metadata": {},
   "outputs": [
    {
     "name": "stdout",
     "output_type": "stream",
     "text": [
      "Requirement already satisfied: bs4 in c:\\anaconda\\lib\\site-packages (0.0.1)\n",
      "Requirement already satisfied: beautifulsoup4 in c:\\anaconda\\lib\\site-packages (from bs4) (4.11.1)\n",
      "Requirement already satisfied: soupsieve>1.2 in c:\\anaconda\\lib\\site-packages (from beautifulsoup4->bs4) (2.3.1)\n",
      "Note: you may need to restart the kernel to use updated packages.\n"
     ]
    }
   ],
   "source": [
    "pip install bs4"
   ]
  },
  {
   "cell_type": "code",
   "execution_count": 16,
   "id": "ea5e3090",
   "metadata": {},
   "outputs": [],
   "source": [
    "import requests\n",
    "from bs4 import BeautifulSoup"
   ]
  },
  {
   "cell_type": "code",
   "execution_count": 10,
   "id": "db793ff7",
   "metadata": {},
   "outputs": [
    {
     "name": "stdout",
     "output_type": "stream",
     "text": [
      "Enter number of pages2\n",
      "phone in page1\n",
      "24\n",
      "phone in page2\n",
      "24\n"
     ]
    }
   ],
   "source": [
    "phn_nm=[]\n",
    "phn_pr=[]\n",
    "\n",
    "page_num=input(\"Enter number of pages\")\n",
    "for i in range(1,int(page_num)+1):\n",
    "    url=\"https://www.flipkart.com/search?q=mi+mobiles&sid=tyy%2C4io&as=on&as-show=on&otracker=AS_QueryStore_OrganicAutoSuggest_1_2_na_na_na&otracker1=AS_QueryStore_OrganicAutoSuggest_1_2_na_na_na&as-pos=1&as-type=RECENT&suggestionId=mi+mobiles%7CMobiles&requestId=361bb023-24c2-4b42-bae1-e08715c6cd78&as-searchtext=mi&page=\"+str(i)\n",
    "    req=requests.get(url)\n",
    "    content=BeautifulSoup(req.content,'html.parser')\n",
    "    name=content.find_all('div',{\"class\":\"_4rR01T\"})\n",
    "    price=content.find_all('div',{\"class\":\"_30jeq3 _1_WHN1\"})\n",
    "    print(\"phone in page\"+str(i))\n",
    "    print(len(name))\n",
    "    \n",
    "    for i in name:\n",
    "        phn_nm.append(i.text)\n",
    "    for i in price:\n",
    "        phn_pr.append(i.text)"
   ]
  },
  {
   "cell_type": "code",
   "execution_count": 11,
   "id": "bbe14630",
   "metadata": {},
   "outputs": [],
   "source": [
    "import pandas as pd"
   ]
  },
  {
   "cell_type": "code",
   "execution_count": 12,
   "id": "0f88f666",
   "metadata": {
    "scrolled": true
   },
   "outputs": [
    {
     "name": "stdout",
     "output_type": "stream",
     "text": [
      "                                           phone name phone price\n",
      "0                Redmi 9A Sport (Carbon Black, 32 GB)      ₹6,969\n",
      "1                 Redmi 9A Sport (Coral Green, 32 GB)      ₹6,963\n",
      "2                 Redmi 9A Sport (Coral Green, 32 GB)      ₹7,880\n",
      "3               Redmi 9A Sport (Metallic Blue, 32 GB)      ₹7,895\n",
      "4                Redmi 9A Sport (Carbon Black, 32 GB)      ₹7,840\n",
      "5               Redmi 9A Sport (Metallic Blue, 32 GB)      ₹6,949\n",
      "6              Redmi Note 11 (Starburst White, 64 GB)     ₹14,499\n",
      "7                Redmi Note 11 (Horizon Blue, 128 GB)     ₹15,749\n",
      "8             Redmi Note 11 (Starburst White, 128 GB)     ₹15,990\n",
      "9                  Redmi Note 11 (Space Black, 64 GB)     ₹12,659\n",
      "10                 Redmi Note 11 (Space Black, 64 GB)     ₹13,859\n",
      "11                Redmi Note 11 (Horizon Blue, 64 GB)     ₹12,690\n",
      "12                 Xiaomi 11i 5G (Camo Green, 128 GB)     ₹26,999\n",
      "13                 Xiaomi 11i 5G (Camo Green, 128 GB)     ₹24,999\n",
      "14              Xiaomi 11i 5G (Pacific Pearl, 128 GB)     ₹24,999\n",
      "15                  REDMI 10A (Charcoal Black, 32 GB)      ₹8,746\n",
      "16                      REDMI 10A (Slate Grey, 32 GB)      ₹8,749\n",
      "17                      REDMI 10A (Slate grey, 64 GB)      ₹9,268\n",
      "18                        REDMI 10A (Sea Blue, 64 GB)      ₹9,116\n",
      "19            REDMI Note 11T 5G (Matte black, 128 GB)     ₹16,155\n",
      "20            REDMI Note 11T 5G (Matte black, 128 GB)     ₹17,988\n",
      "21              Xiaomi 11i 5G (Stealth Black, 128 GB)     ₹26,999\n",
      "22    Redmi Note 11 PRO Plus 5G (Mirage Blue, 128 GB)     ₹19,879\n",
      "23     Xiaomi 11i Hypercharge 5G (Camo Green, 128 GB)     ₹28,999\n",
      "24         REDMI Note 11T 5G (Stardust White, 128 GB)     ₹17,954\n",
      "25        REDMI Note 11T 5G (Aquamarine Blue, 128 GB)     ₹17,939\n",
      "26         REDMI Note 11T 5G (Stardust White, 128 GB)     ₹15,994\n",
      "27                Redmi Note 11 (Space Black, 128 GB)     ₹15,683\n",
      "28                Xiaomi 11i 5G (Purple Mist, 128 GB)     ₹26,999\n",
      "29              Xiaomi 11i 5G (Pacific Pearl, 128 GB)     ₹26,999\n",
      "30  Xiaomi 11i Hypercharge 5G (Stealth Black, 128 GB)     ₹26,999\n",
      "31             REDMI Note 11T 5G (Matte black, 64 GB)     ₹17,879\n",
      "32               REDMI 10 Power (Power Black, 128 GB)     ₹15,198\n",
      "33                          Redmi 9A (SeaBlue, 32 GB)      ₹7,750\n",
      "34    Redmi Note 11 PRO Plus 5G (Mirage Blue, 256 GB)     ₹25,221\n",
      "35                     Redmi 9A (Nature Green, 32 GB)      ₹7,998\n",
      "36             Redmi Note 11 (Starburst White, 64 GB)     ₹12,770\n",
      "37             REDMI 10 Power (Sporty Orange, 128 GB)     ₹14,899\n",
      "38        REDMI Note 11T 5G (Aquamarine Blue, 128 GB)     ₹16,375\n",
      "39     Xiaomi 11i Hypercharge 5G (Camo Green, 128 GB)     ₹26,999\n",
      "40  Xiaomi 11i Hypercharge 5G (Stealth Black, 128 GB)     ₹28,999\n",
      "41               Xiaomi 11Lite NE (Jazz Blue, 128 GB)     ₹24,475\n",
      "42             Xiaomi 11Lite NE (Vinyl Black, 128 GB)     ₹24,094\n",
      "43                Redmi Note 11 (Horizon Blue, 64 GB)     ₹12,889\n",
      "44  Xiaomi 11T Pro 5G Hyperphone (Meteorite Black,...     ₹41,898\n",
      "45  Xiaomi 11T Pro 5G Hyperphone (Celestial Magic,...     ₹38,990\n",
      "46                     Redmi 9A (Nature Green, 32 GB)      ₹7,989\n",
      "47    Xiaomi 11i Hypercharge 5G (Purple Mist, 128 GB)     ₹26,999\n"
     ]
    }
   ],
   "source": [
    "data={\"phone name\":phn_nm,      \"phone price\":phn_pr}\n",
    "df=pd.DataFrame(data)\n",
    "print(df)"
   ]
  },
  {
   "cell_type": "code",
   "execution_count": 13,
   "id": "46093eeb",
   "metadata": {},
   "outputs": [],
   "source": [
    "df.to_csv('flipkartt.csv')"
   ]
  }
 ],
 "metadata": {
  "kernelspec": {
   "display_name": "Python 3 (ipykernel)",
   "language": "python",
   "name": "python3"
  },
  "language_info": {
   "codemirror_mode": {
    "name": "ipython",
    "version": 3
   },
   "file_extension": ".py",
   "mimetype": "text/x-python",
   "name": "python",
   "nbconvert_exporter": "python",
   "pygments_lexer": "ipython3",
   "version": "3.9.12"
  }
 },
 "nbformat": 4,
 "nbformat_minor": 5
}
